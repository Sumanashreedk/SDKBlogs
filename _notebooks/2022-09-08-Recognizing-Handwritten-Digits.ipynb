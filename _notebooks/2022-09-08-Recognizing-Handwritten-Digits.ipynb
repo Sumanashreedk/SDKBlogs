{
 "cells": [
  {
   "cell_type": "markdown",
   "id": "80fdd0ce",
   "metadata": {},
   "source": [
    "# Recognizing Handwritten Digits\n",
    "> Data analysis is not limited to numbers and strings, because images and sounds can also be analyzed and classified.\n",
    "Recognizing handwritten text is a problem that can be traced back to the first automatic machines that needed to recognize individual characters in handwritten documents. OCR software must read handwritten text, or pages of printed books, for general electronic documents in which each character is well defined.\n",
    "\n",
    "- toc:true\n",
    "- branch: master\n",
    "- badges: true\n",
    "- comments: true\n",
    "- author: Sumanashree\n",
    "- categories: [DataAnalysis]"
   ]
  },
  {
   "cell_type": "markdown",
   "id": "74c99223",
   "metadata": {},
   "source": [
    "## Introduction"
   ]
  },
  {
   "cell_type": "markdown",
   "id": "2954e015",
   "metadata": {},
   "source": [
    "**Recognizing handwritten text is a problem that can be traced back to the first automatic \n",
    "machines that needed to recognize individual characters in handwritten documents. \n",
    "Think about, for example, the ZIP codes on letters at the post office and the automation \n",
    "needed to recognize these five digits. Perfect recognition of these codes is necessary in \n",
    "order to sort mail automatically and efficiently.**"
   ]
  },
  {
   "cell_type": "markdown",
   "id": "8e14c20c",
   "metadata": {},
   "source": [
    "**Included among the other applications that may come to mind is OCR (Optical \n",
    "Character Recognition) software. OCR software must read handwritten text, or pages of \n",
    "printed books, for general electronic documents in which each character is well \n",
    "defined.\n",
    "  But the problem of handwriting recognition goes farther back in time, more \n",
    "precisely to the early 20th Century (1920s), when Emanuel Goldberg (1881–1970) began \n",
    "his studies regarding this issue and suggested that a statistical approach would be an \n",
    "optimal choice.**"
   ]
  },
  {
   "cell_type": "markdown",
   "id": "0df32e4e",
   "metadata": {},
   "source": [
    "**To address this issue in Python, the scikit-learn library provides a good example \n",
    "to better understand this technique, the issues involved, and the possibility of making \n",
    "predictions.**"
   ]
  },
  {
   "cell_type": "markdown",
   "id": "80625122",
   "metadata": {},
   "source": [
    "**Let's first import the required Libraries.**"
   ]
  },
  {
   "cell_type": "code",
   "execution_count": 1,
   "id": "419e06b4",
   "metadata": {},
   "outputs": [],
   "source": [
    "from sklearn import datasets\n",
    "from sklearn.model_selection import train_test_split\n",
    "from sklearn.ensemble import RandomForestClassifier\n",
    "from sklearn.metrics import accuracy_score\n",
    "import matplotlib.pyplot as plt\n",
    "%matplotlib inline"
   ]
  },
  {
   "cell_type": "markdown",
   "id": "7dbae5a2",
   "metadata": {},
   "source": [
    "**Now let's import the dataset of images called digits.**"
   ]
  },
  {
   "cell_type": "code",
   "execution_count": 2,
   "id": "353f235b",
   "metadata": {},
   "outputs": [],
   "source": [
    "digits = datasets.load_digits()"
   ]
  },
  {
   "cell_type": "markdown",
   "id": "8b2ae53b",
   "metadata": {},
   "source": [
    "**Let’s take a look at what this DESCR (description) of the dataset shows, by printing out its contents:**"
   ]
  },
  {
   "cell_type": "code",
   "execution_count": 3,
   "id": "c243fa3d",
   "metadata": {},
   "outputs": [
    {
     "name": "stdout",
     "output_type": "stream",
     "text": [
      ".. _digits_dataset:\n",
      "\n",
      "Optical recognition of handwritten digits dataset\n",
      "--------------------------------------------------\n",
      "\n",
      "**Data Set Characteristics:**\n",
      "\n",
      "    :Number of Instances: 1797\n",
      "    :Number of Attributes: 64\n",
      "    :Attribute Information: 8x8 image of integer pixels in the range 0..16.\n",
      "    :Missing Attribute Values: None\n",
      "    :Creator: E. Alpaydin (alpaydin '@' boun.edu.tr)\n",
      "    :Date: July; 1998\n",
      "\n",
      "This is a copy of the test set of the UCI ML hand-written digits datasets\n",
      "https://archive.ics.uci.edu/ml/datasets/Optical+Recognition+of+Handwritten+Digits\n",
      "\n",
      "The data set contains images of hand-written digits: 10 classes where\n",
      "each class refers to a digit.\n",
      "\n",
      "Preprocessing programs made available by NIST were used to extract\n",
      "normalized bitmaps of handwritten digits from a preprinted form. From a\n",
      "total of 43 people, 30 contributed to the training set and different 13\n",
      "to the test set. 32x32 bitmaps are divided into nonoverlapping blocks of\n",
      "4x4 and the number of on pixels are counted in each block. This generates\n",
      "an input matrix of 8x8 where each element is an integer in the range\n",
      "0..16. This reduces dimensionality and gives invariance to small\n",
      "distortions.\n",
      "\n",
      "For info on NIST preprocessing routines, see M. D. Garris, J. L. Blue, G.\n",
      "T. Candela, D. L. Dimmick, J. Geist, P. J. Grother, S. A. Janet, and C.\n",
      "L. Wilson, NIST Form-Based Handprint Recognition System, NISTIR 5469,\n",
      "1994.\n",
      "\n",
      ".. topic:: References\n",
      "\n",
      "  - C. Kaynak (1995) Methods of Combining Multiple Classifiers and Their\n",
      "    Applications to Handwritten Digit Recognition, MSc Thesis, Institute of\n",
      "    Graduate Studies in Science and Engineering, Bogazici University.\n",
      "  - E. Alpaydin, C. Kaynak (1998) Cascading Classifiers, Kybernetika.\n",
      "  - Ken Tang and Ponnuthurai N. Suganthan and Xi Yao and A. Kai Qin.\n",
      "    Linear dimensionalityreduction using relevance weighted LDA. School of\n",
      "    Electrical and Electronic Engineering Nanyang Technological University.\n",
      "    2005.\n",
      "  - Claudio Gentile. A New Approximate Maximal Margin Classification\n",
      "    Algorithm. NIPS. 2000.\n",
      "\n"
     ]
    }
   ],
   "source": [
    "print(digits.DESCR)"
   ]
  },
  {
   "cell_type": "markdown",
   "id": "528b4d7a",
   "metadata": {},
   "source": [
    "**Images attribute of the dataset stores 8*8 arrays of grayscale values for each image. Attribute shape is used get the shape of an object.**"
   ]
  },
  {
   "cell_type": "code",
   "execution_count": 4,
   "id": "0512bad4",
   "metadata": {},
   "outputs": [
    {
     "data": {
      "text/plain": [
       "(array([[ 0.,  0.,  0., 12., 13.,  5.,  0.,  0.],\n",
       "        [ 0.,  0.,  0., 11., 16.,  9.,  0.,  0.],\n",
       "        [ 0.,  0.,  3., 15., 16.,  6.,  0.,  0.],\n",
       "        [ 0.,  7., 15., 16., 16.,  2.,  0.,  0.],\n",
       "        [ 0.,  0.,  1., 16., 16.,  3.,  0.,  0.],\n",
       "        [ 0.,  0.,  1., 16., 16.,  6.,  0.,  0.],\n",
       "        [ 0.,  0.,  1., 16., 16.,  6.,  0.,  0.],\n",
       "        [ 0.,  0.,  0., 11., 16., 10.,  0.,  0.]]),\n",
       " (8, 8))"
      ]
     },
     "execution_count": 4,
     "metadata": {},
     "output_type": "execute_result"
    }
   ],
   "source": [
    "digits.images[1], digits.images[1].shape"
   ]
  },
  {
   "cell_type": "markdown",
   "id": "9d68067b",
   "metadata": {},
   "source": [
    "**Let's use the function imshow() to display the data as an image.**"
   ]
  },
  {
   "cell_type": "code",
   "execution_count": 5,
   "id": "2193c1b8",
   "metadata": {},
   "outputs": [
    {
     "data": {
      "text/plain": [
       "<matplotlib.image.AxesImage at 0x7f1876ba5900>"
      ]
     },
     "execution_count": 5,
     "metadata": {},
     "output_type": "execute_result"
    },
    {
     "data": {
      "image/png": "[encoded data removed]",
      "text/plain": [
       "<Figure size 640x480 with 1 Axes>"
      ]
     },
     "metadata": {},
     "output_type": "display_data"
    }
   ],
   "source": [
    "plt.imshow(digits.images[1], cmap=plt.cm.gray_r, interpolation='nearest')"
   ]
  },
  {
   "cell_type": "markdown",
   "id": "13aa6210",
   "metadata": {},
   "source": [
    "**Target attribute of the dataset stores the digit each image represents.**"
   ]
  },
  {
   "cell_type": "code",
   "execution_count": 6,
   "id": "d475ae58",
   "metadata": {},
   "outputs": [
    {
     "data": {
      "text/plain": [
       "array([0, 1, 2, ..., 8, 9, 8])"
      ]
     },
     "execution_count": 6,
     "metadata": {},
     "output_type": "execute_result"
    }
   ],
   "source": [
    "digits.target"
   ]
  },
  {
   "cell_type": "markdown",
   "id": "6b1b1494",
   "metadata": {},
   "source": [
    "**Now,let's check the number of images present in the dataset using the attribute size.**"
   ]
  },
  {
   "cell_type": "code",
   "execution_count": 7,
   "id": "668e787a",
   "metadata": {
    "scrolled": true
   },
   "outputs": [
    {
     "data": {
      "text/plain": [
       "1797"
      ]
     },
     "execution_count": 7,
     "metadata": {},
     "output_type": "execute_result"
    }
   ],
   "source": [
    "digits.target.size"
   ]
  },
  {
   "cell_type": "code",
   "execution_count": 8,
   "id": "fba5e15f",
   "metadata": {},
   "outputs": [
    {
     "data": {
      "text/plain": [
       "((1797, 8, 8), (1797,))"
      ]
     },
     "execution_count": 8,
     "metadata": {},
     "output_type": "execute_result"
    }
   ],
   "source": [
    "digits.images.shape, digits.target.shape"
   ]
  },
  {
   "cell_type": "code",
   "execution_count": 9,
   "id": "12d24025",
   "metadata": {},
   "outputs": [
    {
     "data": {
      "text/plain": [
       "(1797, 8, 8)"
      ]
     },
     "execution_count": 9,
     "metadata": {},
     "output_type": "execute_result"
    }
   ],
   "source": [
    "N, H, W = digits.images.shape\n",
    "N, H, W"
   ]
  },
  {
   "cell_type": "markdown",
   "id": "9719c4c1",
   "metadata": {},
   "source": [
    "**Inputs to the model should be of shape `No. of samples * No. of features`.**\n",
    "\n",
    "**So our digits inputs should be reshaped from `1797 * 8 * 8` to `1797 * 64`.**"
   ]
  },
  {
   "cell_type": "code",
   "execution_count": 10,
   "id": "f4feb0a4",
   "metadata": {},
   "outputs": [
    {
     "data": {
      "text/plain": [
       "(1797, 64)"
      ]
     },
     "execution_count": 10,
     "metadata": {},
     "output_type": "execute_result"
    }
   ],
   "source": [
    "digits.images = digits.images.reshape(N, (H * W))\n",
    "digits.images.shape"
   ]
  },
  {
   "cell_type": "markdown",
   "id": "c3d0af8b",
   "metadata": {},
   "source": [
    "**case 1 : \n",
    "Now,we'll split the data into 80% train and 20% test subsets using train_test_split() function.**"
   ]
  },
  {
   "cell_type": "code",
   "execution_count": 11,
   "id": "a5ef2f4b",
   "metadata": {
    "scrolled": true
   },
   "outputs": [
    {
     "data": {
      "text/plain": [
       "((1437, 64), (360, 64), (1437,), (360,))"
      ]
     },
     "execution_count": 11,
     "metadata": {},
     "output_type": "execute_result"
    }
   ],
   "source": [
    "train_X, val_X, train_y, val_y = train_test_split(digits.images, digits.target, test_size=0.2)\n",
    "train_X.shape, val_X.shape, train_y.shape, val_y.shape"
   ]
  },
  {
   "cell_type": "markdown",
   "id": "4c137e59",
   "metadata": {},
   "source": [
    "**Let's create the RF model and fit the model to train the data and we'll predict on train and valid data using the trained model.**\n",
    "**Then finally with the help of the function accuracy_score()  we'll check \"how accurate our model is!\"**"
   ]
  },
  {
   "cell_type": "code",
   "execution_count": 12,
   "id": "2acd262c",
   "metadata": {},
   "outputs": [
    {
     "name": "stdout",
     "output_type": "stream",
     "text": [
      "Train accuracy: 1.0\n",
      "Valid accuracy: 0.975\n"
     ]
    }
   ],
   "source": [
    "# create RF model\n",
    "model = RandomForestClassifier(random_state=0)\n",
    "# fit model to train data\n",
    "model.fit(train_X, train_y)\n",
    "# predict on train data using trained model\n",
    "train_pred = model.predict(train_X)\n",
    "# predict on valid data using trained model\n",
    "val_pred = model.predict(val_X)\n",
    "# print accuracy scores for both train and valid data\n",
    "print(f\"Train accuracy: {accuracy_score(train_y, train_pred)}\")\n",
    "print(f\"Valid accuracy: {accuracy_score(val_y, val_pred)}\")"
   ]
  },
  {
   "cell_type": "markdown",
   "id": "dca06b14",
   "metadata": {},
   "source": [
    "**case 2 : Now,we'll split the data into 70% train and 30% test subsets and then calculate the accuracy of the created model.**"
   ]
  },
  {
   "cell_type": "code",
   "execution_count": 13,
   "id": "68b7da25",
   "metadata": {
    "scrolled": true
   },
   "outputs": [
    {
     "data": {
      "text/plain": [
       "((1257, 64), (540, 64), (1257,), (540,))"
      ]
     },
     "execution_count": 13,
     "metadata": {},
     "output_type": "execute_result"
    }
   ],
   "source": [
    "train_X, val_X, train_y, val_y = train_test_split(digits.images, digits.target, test_size=0.3)\n",
    "train_X.shape, val_X.shape, train_y.shape, val_y.shape"
   ]
  },
  {
   "cell_type": "code",
   "execution_count": 14,
   "id": "9b3f6471",
   "metadata": {},
   "outputs": [
    {
     "name": "stdout",
     "output_type": "stream",
     "text": [
      "Train accuracy: 1.0\n",
      "Valid accuracy: 0.9722222222222222\n"
     ]
    }
   ],
   "source": [
    "# create RF model\n",
    "model = RandomForestClassifier(random_state=0)\n",
    "# fit model to train data\n",
    "model.fit(train_X, train_y)\n",
    "# predict on train data using trained model\n",
    "train_pred = model.predict(train_X)\n",
    "# predict on valid data using trained model\n",
    "val_pred = model.predict(val_X)\n",
    "# print accuracy scores for both train and valid data\n",
    "print(f\"Train accuracy: {accuracy_score(train_y, train_pred)}\")\n",
    "print(f\"Valid accuracy: {accuracy_score(val_y, val_pred)}\")"
   ]
  },
  {
   "cell_type": "markdown",
   "id": "67ed06a9",
   "metadata": {},
   "source": [
    "**case 3 : Next,split the data into 60% train and 40% test subsets and then calculate the accuracy of the created model.**"
   ]
  },
  {
   "cell_type": "code",
   "execution_count": 15,
   "id": "9de92033",
   "metadata": {
    "scrolled": true
   },
   "outputs": [
    {
     "data": {
      "text/plain": [
       "((1078, 64), (719, 64), (1078,), (719,))"
      ]
     },
     "execution_count": 15,
     "metadata": {},
     "output_type": "execute_result"
    }
   ],
   "source": [
    "train_X, val_X, train_y, val_y = train_test_split(digits.images, digits.target, test_size=0.4)\n",
    "train_X.shape, val_X.shape, train_y.shape, val_y.shape"
   ]
  },
  {
   "cell_type": "code",
   "execution_count": 16,
   "id": "33ea7d33",
   "metadata": {},
   "outputs": [
    {
     "name": "stdout",
     "output_type": "stream",
     "text": [
      "Train accuracy: 1.0\n",
      "Valid accuracy: 0.972183588317107\n"
     ]
    }
   ],
   "source": [
    "# create RF model\n",
    "model = RandomForestClassifier(random_state=0)\n",
    "# fit model to train data\n",
    "model.fit(train_X, train_y)\n",
    "# predict on train data using trained model\n",
    "train_pred = model.predict(train_X)\n",
    "# predict on valid data using trained model\n",
    "val_pred = model.predict(val_X)\n",
    "# print accuracy scores for both train and valid data\n",
    "print(f\"Train accuracy: {accuracy_score(train_y, train_pred)}\")\n",
    "print(f\"Valid accuracy: {accuracy_score(val_y, val_pred)}\")"
   ]
  },
  {
   "cell_type": "markdown",
   "id": "23134f91",
   "metadata": {},
   "source": [
    "## Conclusion"
   ]
  },
  {
   "cell_type": "markdown",
   "id": "9eccb545",
   "metadata": {},
   "source": [
    "**From the code above, we can see that, \" In all the 3 cases the accuracy of our model is greater than 95% \". This means that it predicts the digit accurately greater than 95% of the times. \" Hence the tested Hypothesis is accepted.....\"**"
   ]
  },
  {
   "cell_type": "markdown",
   "id": "43c48552",
   "metadata": {},
   "source": [
    "#### \"I am thankful to mentors at https://internship.suvenconsultants.com for providing awesome problem statements and giving many of us a Coding Internship Exprience. Thank you www.suvenconsultants.com\"\n"
   ]
  }
 ],
 "metadata": {
  "kernelspec": {
   "display_name": "Python 3 (ipykernel)",
   "language": "python",
   "name": "python3"
  },
  "language_info": {
   "codemirror_mode": {
    "name": "ipython",
    "version": 3
   },
   "file_extension": ".py",
   "mimetype": "text/x-python",
   "name": "python",
   "nbconvert_exporter": "python",
   "pygments_lexer": "ipython3",
   "version": "3.10.6"
  }
 },
 "nbformat": 4,
 "nbformat_minor": 5
}
